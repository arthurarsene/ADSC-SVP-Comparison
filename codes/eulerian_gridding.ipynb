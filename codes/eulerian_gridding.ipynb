{
 "cells": [
  {
   "cell_type": "code",
   "execution_count": 1,
   "metadata": {},
   "outputs": [
    {
     "ename": "ModuleNotFoundError",
     "evalue": "No module named 'seaborn'",
     "output_type": "error",
     "traceback": [
      "\u001b[0;31m---------------------------------------------------------------------------\u001b[0m",
      "\u001b[0;31mModuleNotFoundError\u001b[0m                       Traceback (most recent call last)",
      "Cell \u001b[0;32mIn [1], line 18\u001b[0m\n\u001b[1;32m     12\u001b[0m \u001b[39mimport\u001b[39;00m \u001b[39mcartopy\u001b[39;00m\u001b[39m.\u001b[39;00m\u001b[39mfeature\u001b[39;00m                 \u001b[39mas\u001b[39;00m \u001b[39mcfeat\u001b[39;00m\n\u001b[1;32m     14\u001b[0m \u001b[39m#import matplotlib.colors as colors\u001b[39;00m\n\u001b[1;32m     15\u001b[0m \u001b[39m#from matplotlib.markers import MarkerStyle\u001b[39;00m\n\u001b[0;32m---> 18\u001b[0m \u001b[39mimport\u001b[39;00m \u001b[39mseaborn\u001b[39;00m \u001b[39mas\u001b[39;00m \u001b[39msns\u001b[39;00m\n\u001b[1;32m     20\u001b[0m \u001b[39m#from tqdm import trange\u001b[39;00m\n",
      "\u001b[0;31mModuleNotFoundError\u001b[0m: No module named 'seaborn'"
     ]
    }
   ],
   "source": [
    "import numpy as np\n",
    "import matplotlib.pyplot as plt\n",
    "import xarray as xr\n",
    "#from scipy import signal\n",
    "\n",
    "#from pyproj import Geod\n",
    "#g = Geod(ellps='WGS84') \n",
    "\n",
    "import matplotlib.path                 as mpath\n",
    "import cartopy.crs                     as ccrs\n",
    "import cartopy.mpl.ticker              as ctk\n",
    "import cartopy.feature                 as cfeat\n",
    "\n",
    "#import matplotlib.colors as colors\n",
    "#from matplotlib.markers import MarkerStyle\n",
    "\n",
    "\n",
    "import seaborn as sns\n",
    "\n",
    "#from tqdm import trange\n"
   ]
  },
  {
   "cell_type": "code",
   "execution_count": null,
   "metadata": {},
   "outputs": [],
   "source": []
  }
 ],
 "metadata": {
  "kernelspec": {
   "display_name": "Python 3.10.6 ('pangeo')",
   "language": "python",
   "name": "python3"
  },
  "language_info": {
   "codemirror_mode": {
    "name": "ipython",
    "version": 3
   },
   "file_extension": ".py",
   "mimetype": "text/x-python",
   "name": "python",
   "nbconvert_exporter": "python",
   "pygments_lexer": "ipython3",
   "version": "3.10.6"
  },
  "orig_nbformat": 4,
  "vscode": {
   "interpreter": {
    "hash": "b4df695b07c09f7083766f8defe30be99306fce9ed8e5fc123426e7e8867dd05"
   }
  }
 },
 "nbformat": 4,
 "nbformat_minor": 2
}
