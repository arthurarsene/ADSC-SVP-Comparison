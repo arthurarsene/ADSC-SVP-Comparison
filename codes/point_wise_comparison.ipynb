{
 "cells": [
  {
   "cell_type": "code",
   "execution_count": 1,
   "metadata": {},
   "outputs": [],
   "source": [
    "import numpy as np\n",
    "import matplotlib.pyplot as plt\n",
    "import xarray as xr\n",
    "import seaborn as sns\n",
    "from scipy import stats\n",
    "from pyproj import Geod\n",
    "g = Geod(ellps='WGS84')\n",
    "\n",
    "from matplotlib.projections import PolarAxes\n",
    "import mpl_toolkits.axisartist.grid_finder as gf\n",
    "import mpl_toolkits.axisartist.floating_axes as fa\n",
    "\n",
    "import warnings\n",
    "warnings.filterwarnings(action='once')\n",
    "\n",
    "import sklearn\n",
    "from sklearn.model_selection import train_test_split"
   ]
  },
  {
   "cell_type": "code",
   "execution_count": 3,
   "metadata": {},
   "outputs": [],
   "source": [
    "iso600 = np.loadtxt('../data/bathy/smooth_600m_isobath.txt')\n",
    "x600 = iso600[:,0]\n",
    "y600 = iso600[:,1]"
   ]
  },
  {
   "cell_type": "code",
   "execution_count": 4,
   "metadata": {},
   "outputs": [],
   "source": [
    "bathy = xr.open_dataset('../data/bathy/GEBCO_02_Dec_2022_8bb5cd71a07e/gebco_2022_n62.0_s59.0_w-49.0_e-40.0.nc')\n",
    "\n",
    "gdp = xr.open_dataset('../data/GDP/processed_gdp_data.nc')\n",
    "\n",
    "adsc = xr.open_dataset('../data/ADSC/geo_ekman_daily_gdp.nc').isel(depth=0)"
   ]
  },
  {
   "cell_type": "code",
   "execution_count": null,
   "metadata": {},
   "outputs": [],
   "source": []
  }
 ],
 "metadata": {
  "kernelspec": {
   "display_name": "Python 3.10.8 ('adsc_svp')",
   "language": "python",
   "name": "python3"
  },
  "language_info": {
   "codemirror_mode": {
    "name": "ipython",
    "version": 3
   },
   "file_extension": ".py",
   "mimetype": "text/x-python",
   "name": "python",
   "nbconvert_exporter": "python",
   "pygments_lexer": "ipython3",
   "version": "3.10.8"
  },
  "orig_nbformat": 4,
  "vscode": {
   "interpreter": {
    "hash": "4ddab7f05523f643ed2693a6c0d6170bdfd368e9c93a23575e2d5547ee9d1c1d"
   }
  }
 },
 "nbformat": 4,
 "nbformat_minor": 2
}
