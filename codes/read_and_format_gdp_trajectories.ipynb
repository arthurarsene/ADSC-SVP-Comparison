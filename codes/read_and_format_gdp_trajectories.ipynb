{
 "cells": [
  {
   "cell_type": "markdown",
   "id": "fe1e5e24",
   "metadata": {},
   "source": [
    "# Processing of GDP sub set before applying the methodology"
   ]
  },
  {
   "cell_type": "markdown",
   "id": "33349c46",
   "metadata": {},
   "source": [
    "Arthur Coquereau, arthur.coquereau@univ-brest.fr"
   ]
  },
  {
   "cell_type": "markdown",
   "id": "ba38bb69",
   "metadata": {},
   "source": [
    "## Import libraries"
   ]
  },
  {
   "cell_type": "code",
   "execution_count": null,
   "id": "f66d6aea",
   "metadata": {},
   "outputs": [
    {
     "ename": "",
     "evalue": "",
     "output_type": "error",
     "traceback": [
      "\u001b[1;31mFailed to start the Kernel. \n",
      "\u001b[1;31mUnhandled error. \n",
      "\u001b[1;31mView Jupyter <a href='command:jupyter.viewOutput'>log</a> for further details."
     ]
    }
   ],
   "source": [
    "import xarray as xr\n",
    "import matplotlib.pyplot as plt\n",
    "import pandas as pd\n",
    "import numpy as np\n",
    "\n",
    "import matplotlib.path                 as mpath\n",
    "import cartopy.crs                     as ccrs\n",
    "import cartopy.mpl.ticker              as ctk\n",
    "import cartopy.feature                 as cfeat\n",
    "\n",
    "from pyproj import Geod\n",
    "g = Geod(ellps='WGS84')"
   ]
  },
  {
   "cell_type": "markdown",
   "id": "f7d6bee4",
   "metadata": {},
   "source": [
    "### Plotting functions"
   ]
  },
  {
   "cell_type": "code",
   "execution_count": null,
   "id": "f7efb176",
   "metadata": {},
   "outputs": [],
   "source": [
    "from plot_functions import createFigurewithProjection, shapeAxis"
   ]
  },
  {
   "cell_type": "markdown",
   "id": "23604432",
   "metadata": {},
   "source": [
    "## Import GDP drifter trajectories and bathymetry data "
   ]
  },
  {
   "cell_type": "code",
   "execution_count": null,
   "id": "38833c48",
   "metadata": {},
   "outputs": [],
   "source": [
    "gdp_ds = pd.read_csv('../data/GDP/interpolated_gld.20221202_104507')\n",
    "\n",
    "bathy = xr.open_dataset('../data/bathy/GEBCO_02_Dec_2022_8bb5cd71a07e/gebco_2022_n62.0_s59.0_w-49.0_e-40.0.nc')"
   ]
  },
  {
   "cell_type": "code",
   "execution_count": null,
   "id": "2cba29d5",
   "metadata": {},
   "outputs": [],
   "source": [
    "id_drift= np.array([gdp_ds.iloc[i].values[0].split()[0] for i in range(len(gdp_ds))], dtype=int)\n",
    "time = np.array([gdp_ds.iloc[i].values[0].split()[1]+'T'+gdp_ds.iloc[i].values[0].split()[2] for i in range(len(gdp_ds))], dtype=np.datetime64)\n",
    "speed = np.array([gdp_ds.iloc[i].values[0].split()[8] for i in range(len(gdp_ds))], dtype=float)\n",
    "lon = np.array([gdp_ds.iloc[i].values[0].split()[4] for i in range(len(gdp_ds))], dtype=float)\n",
    "lat = np.array([gdp_ds.iloc[i].values[0].split()[3] for i in range(len(gdp_ds))], dtype=float)\n",
    "\n",
    "u = np.array([gdp_ds.iloc[i].values[0].split()[6] for i in range(len(gdp_ds))], dtype=float)/100 # m/s\n",
    "v = np.array([gdp_ds.iloc[i].values[0].split()[7] for i in range(len(gdp_ds))], dtype=float)/100 # m/s"
   ]
  },
  {
   "cell_type": "markdown",
   "id": "e674aab7",
   "metadata": {},
   "source": [
    "## Data investigation"
   ]
  },
  {
   "cell_type": "code",
   "execution_count": null,
   "id": "914c8e37",
   "metadata": {},
   "outputs": [],
   "source": [
    "print('Total number of drifters available: ' +str(len(np.unique(id_drift))))"
   ]
  },
  {
   "cell_type": "code",
   "execution_count": null,
   "id": "48a0a2c9",
   "metadata": {},
   "outputs": [],
   "source": [
    "plt.figure(figsize=(10,4))\n",
    "__ = plt.hist(time, bins=30)\n",
    "plt.ylabel('Number of drifter locations')\n",
    "plt.xlabel('Time')"
   ]
  },
  {
   "cell_type": "code",
   "execution_count": null,
   "id": "53dde0a2",
   "metadata": {},
   "outputs": [],
   "source": [
    "start_time = np.array([time[id_drift == np.unique(id_drift)[i]][0] for i in range(len(np.unique(id_drift)))])\n",
    "start_lon = np.array([lon[id_drift == np.unique(id_drift)[i]][0] for i in range(len(np.unique(id_drift)))])\n",
    "start_lat = np.array([lat[id_drift == np.unique(id_drift)[i]][0] for i in range(len(np.unique(id_drift)))])"
   ]
  },
  {
   "cell_type": "markdown",
   "id": "46b57ece",
   "metadata": {},
   "source": [
    "We only select trajectories starting on the shelf (our area of investigation). Some trajectories started on the East Greenland Shelf around 60.5°-61°N. These trajectories correspond to the drifters studied in the main part of the article. We do not want to include these trajectories here, because this large number of drifters deployed at the same time will influence the result. Indeed, apart from these, the number of buoys traveling between 1993 and 2021 is relatively small."
   ]
  },
  {
   "cell_type": "code",
   "execution_count": null,
   "id": "e108cd5b",
   "metadata": {},
   "outputs": [],
   "source": [
    "fig, ax, rect = createFigurewithProjection(figsize=(10, 10), nrows=1, ncols=1, bounds=[-49, -40, 59, 62])\n",
    "\n",
    "shapeAxis(ax, rect, addCoastline=True)\n",
    "\n",
    "CS = (-1*bathy.elevation).plot.contour(ax=ax, transform=ccrs.PlateCarree(), colors='k', alpha=0.3, levels=np.arange(500, 3000, 500))\n",
    "ax.clabel(CS, CS.levels, inline=True, fontsize=11, zorder=1)\n",
    "\n",
    "ax.fill_between([-42.5, -40.9], 61.7, 62, transform=ccrs.PlateCarree(), alpha=0.3, color='lime', label='Selected area')\n",
    "\n",
    "ax.scatter(start_lon, start_lat, s=5, marker='o', c='m', transform=ccrs.PlateCarree(), label='Starting locations')\n",
    "\n",
    "ax.legend(loc='upper left', bbox_to_anchor=(0.05, 0.98))"
   ]
  },
  {
   "cell_type": "code",
   "execution_count": null,
   "id": "b9254dce",
   "metadata": {},
   "outputs": [],
   "source": [
    "good_ids = np.unique(id_drift)[(start_lon>-42.5)&(start_lon<-40.9)&(start_lat>61.7)]\n",
    "len(good_ids)"
   ]
  },
  {
   "cell_type": "code",
   "execution_count": null,
   "id": "86683972",
   "metadata": {},
   "outputs": [],
   "source": [
    "fig, ax, rect = createFigurewithProjection(figsize=(10, 10), nrows=1, ncols=1, bounds=[-49, -40, 59, 62])\n",
    "\n",
    "shapeAxis(ax, rect, addCoastline=True)\n",
    "\n",
    "CS = (-1*bathy.elevation).plot.contour(ax=ax, transform=ccrs.PlateCarree(), colors='k', alpha=0.3, levels=np.arange(500, 3000, 500))\n",
    "ax.clabel(CS, CS.levels, inline=True, fontsize=11, zorder=1)\n",
    "\n",
    "ax.fill_between([-42.5, -40.9], 61.7, 62, transform=ccrs.PlateCarree(), alpha=0.3, color='lime')\n",
    "\n",
    "for i in range(len(good_ids)):\n",
    "    ax.plot(lon[id_drift==good_ids[i]], lat[id_drift==good_ids[i]], transform=ccrs.PlateCarree(), label=good_ids[i])"
   ]
  },
  {
   "cell_type": "markdown",
   "id": "b2961790",
   "metadata": {},
   "source": [
    "We also check that the trajectories are complete and not cut. In case of cut, we select only the first part."
   ]
  },
  {
   "cell_type": "code",
   "execution_count": null,
   "id": "5b979505",
   "metadata": {},
   "outputs": [],
   "source": [
    "ID_temp, LON_temp, LAT_temp, TIME_temp, U_temp, V_temp = [], [], [], [], [], []\n",
    "\n",
    "for i in range(len(good_ids)):\n",
    "    \n",
    "    if any(np.diff(time[id_drift==good_ids[i]]) != np.timedelta64(21600)):\n",
    "        stop = np.where(np.diff(time[id_drift==good_ids[i]]) != np.timedelta64(21600))[0][0]\n",
    "    else: \n",
    "        stop = len(time[id_drift==good_ids[i]])\n",
    "\n",
    "    ID_temp.append(id_drift[id_drift==good_ids[i]][:stop])\n",
    "    LON_temp.append(lon[id_drift==good_ids[i]][:stop])\n",
    "    LAT_temp.append(lat[id_drift==good_ids[i]][:stop])\n",
    "    TIME_temp.append(time[id_drift==good_ids[i]][:stop])\n",
    "    U_temp.append(u[id_drift==good_ids[i]][:stop])\n",
    "    V_temp.append(v[id_drift==good_ids[i]][:stop])\n"
   ]
  },
  {
   "cell_type": "markdown",
   "id": "d861a62e",
   "metadata": {},
   "source": [
    "## Create the final/processed data set"
   ]
  },
  {
   "cell_type": "markdown",
   "id": "421c95e2",
   "metadata": {},
   "source": [
    "Finally, we build matrices to store the data in a xarray Dataset and a netcdf file."
   ]
  },
  {
   "cell_type": "code",
   "execution_count": null,
   "id": "729ce2ef",
   "metadata": {},
   "outputs": [],
   "source": [
    "LON = np.zeros((len(good_ids), np.max([len(TIME_temp[i]) for i in range(len(TIME_temp))])))*np.nan\n",
    "LAT = np.zeros((len(good_ids), np.max([len(TIME_temp[i]) for i in range(len(TIME_temp))])))*np.nan\n",
    "TIME = np.zeros((len(good_ids), np.max([len(TIME_temp[i]) for i in range(len(TIME_temp))])))*np.nan\n",
    "U = np.zeros((len(good_ids), np.max([len(TIME_temp[i]) for i in range(len(TIME_temp))])))*np.nan\n",
    "V = np.zeros((len(good_ids), np.max([len(TIME_temp[i]) for i in range(len(TIME_temp))])))*np.nan\n",
    "\n",
    "for i in range(len(good_ids)):\n",
    "    LON[i, :len(TIME_temp[i])] = LON_temp[i]\n",
    "    LAT[i, :len(TIME_temp[i])] = LAT_temp[i]\n",
    "    TIME[i, :len(TIME_temp[i])] = TIME_temp[i]\n",
    "    U[i, :len(TIME_temp[i])] = U_temp[i]\n",
    "    V[i, :len(TIME_temp[i])] = V_temp[i]"
   ]
  },
  {
   "cell_type": "code",
   "execution_count": null,
   "id": "4934dac6",
   "metadata": {},
   "outputs": [],
   "source": [
    "ds = xr.Dataset(\n",
    "    data_vars=dict(\n",
    "        lon=([\"traj\", \"obs\"], LON),\n",
    "        lat=([\"traj\", \"obs\"], LAT),\n",
    "        u=([\"traj\", \"obs\"], U),\n",
    "        v=([\"traj\", \"obs\"], V),\n",
    "        time=([\"traj\", \"obs\"], TIME),\n",
    "    ),\n",
    "    coords=dict(\n",
    "        drifter_id=([\"traj\"], good_ids),\n",
    "        obs=([\"obs\"], np.arange(len(LON[0]))),\n",
    "   ),\n",
    "    attrs=dict(description=\"Processed GDP trajectories.\"),\n",
    ")"
   ]
  },
  {
   "cell_type": "code",
   "execution_count": null,
   "id": "4d5d4744",
   "metadata": {},
   "outputs": [],
   "source": [
    "ds"
   ]
  },
  {
   "cell_type": "code",
   "execution_count": null,
   "id": "4ed96045",
   "metadata": {},
   "outputs": [],
   "source": [
    "fig, ax, rect = createFigurewithProjection(figsize=(10, 10), nrows=1, ncols=1, bounds=[-49, -40, 59, 62])\n",
    "\n",
    "shapeAxis(ax, rect, addCoastline=True)\n",
    "\n",
    "CS = (-1*bathy.elevation).plot.contour(ax=ax, transform=ccrs.PlateCarree(), colors='k', alpha=0.3, levels=np.arange(500, 3000, 500))\n",
    "ax.clabel(CS, CS.levels, inline=True, fontsize=11, zorder=1)\n",
    "\n",
    "for i in range(len(ds.traj)):\n",
    "    ax.plot(ds.isel(traj=i).lon, ds.isel(traj=i).lat, transform=ccrs.PlateCarree(), label=ds.isel(traj=i).drifter_id)"
   ]
  },
  {
   "cell_type": "code",
   "execution_count": null,
   "id": "0a94337b",
   "metadata": {},
   "outputs": [],
   "source": [
    "#ds.to_netcdf('../data/GDP/processed_gdp_data.nc')"
   ]
  }
 ],
 "metadata": {
  "kernelspec": {
   "display_name": "Python 3.10.8 ('adsc_svp')",
   "language": "python",
   "name": "python3"
  },
  "language_info": {
   "codemirror_mode": {
    "name": "ipython",
    "version": 3
   },
   "file_extension": ".py",
   "mimetype": "text/x-python",
   "name": "python",
   "nbconvert_exporter": "python",
   "pygments_lexer": "ipython3",
   "version": "3.10.8"
  },
  "vscode": {
   "interpreter": {
    "hash": "4ddab7f05523f643ed2693a6c0d6170bdfd368e9c93a23575e2d5547ee9d1c1d"
   }
  }
 },
 "nbformat": 4,
 "nbformat_minor": 5
}
